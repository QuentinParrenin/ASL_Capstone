{
 "cells": [
  {
   "cell_type": "markdown",
   "metadata": {},
   "source": [
    "## Data augmentation:"
   ]
  },
  {
   "cell_type": "code",
   "execution_count": null,
   "metadata": {},
   "outputs": [],
   "source": [
    "#Code for Augmentation\n",
    "def do_random_affine(xyz, scale=(0.8, 1.3), shift=(-0.08, 0.08), degree=(-16, 16), p=0.5):\n",
    "    if scale is not None:\n",
    "        scale = np.random.uniform(*scale)\n",
    "        xyz = scale*xyz\n",
    "\n",
    "    if shift is not None:\n",
    "        shift = np.random.uniform(*shift)\n",
    "        xyz = xyz + shift\n",
    "\n",
    "    if degree is not None:\n",
    "        degree = np.random.uniform(*degree)\n",
    "        radian = degree/180*np.pi\n",
    "        c = np.cos(radian)\n",
    "        s = np.sin(radian)\n",
    "        rotate = np.array([\n",
    "            [c,-s],\n",
    "            [s, c],\n",
    "        ]).T\n",
    "        xyz[..., :2] = xyz[..., :2] @rotate\n",
    "\n",
    "    return xyz"
   ]
  }
 ],
 "metadata": {
  "colab": {
   "name": "Image Analysis.ipynb",
   "provenance": [],
   "version": "0.3.2"
  },
  "hide_input": false,
  "kernelspec": {
   "display_name": "Python 3 (ipykernel)",
   "language": "python",
   "name": "python3"
  },
  "language_info": {
   "codemirror_mode": {
    "name": "ipython",
    "version": 3
   },
   "file_extension": ".py",
   "mimetype": "text/x-python",
   "name": "python",
   "nbconvert_exporter": "python",
   "pygments_lexer": "ipython3",
   "version": "3.11.4"
  }
 },
 "nbformat": 4,
 "nbformat_minor": 4
}

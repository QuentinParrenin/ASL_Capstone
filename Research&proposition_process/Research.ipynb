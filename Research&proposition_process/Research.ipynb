{
 "cells": [
  {
   "cell_type": "markdown",
   "metadata": {},
   "source": [
    "## Research and advanced tools and process"
   ]
  },
  {
   "cell_type": "markdown",
   "metadata": {},
   "source": [
    "Findings : \n",
    "- 1 For standardization, definition of a maximum length and automatically padd with 0 if the sequence has less frames.\n",
    "[- (Too advanced for our deadlline on tf as only released on torch, but the concept of flash attention 2 on transformers from the paper released last month (stanford) has huge effect on memory and runtime. Using the asymmetric GPU memory hierarchy to bring significant memory saving (linear instead of quadratic), and runtime 2 to 4 times faster compared with optimized baseline. `flash attention 2 being specially impactful for long sequences`)]\n",
    "- 2 Having the mean and the standard deviation of our hand position, as well as the decision of the dominant hand ! \n",
    "- 3 About 5% of the data character are spaces, though it seems like there is no sign character for it\n",
    "- 4 On this link, the mean, std of hand ; as well as Xtrain, Xval, ytrain, yval... are already shared as input https://www.kaggle.com/code/m4nugnzl/aslfr-eda-preprocessing-dataset-for-beginners/output \n",
    "- 5 the end model config from the project having 0.675 - 4 About 5% of the data character are spaces, though it seems like there is no sign character for it ; chose GeLU activation function\n",
    "- 6 embedding with keras (hand landmark and frames)\n",
    "- 7 Awesome explaination of the transformer process with its code \n",
    "- 8 encoder and decoder architecture and code\n",
    "- 9 loss function chose was categorical_crossentropy loss function with label smoothing support"
   ]
  },
  {
   "cell_type": "markdown",
   "metadata": {},
   "source": [
    "## `paper and ressources :`\n",
    "\n",
    "paper 'Sign Language Transformers: Joint End-to-end Sign Language Recognition and Translation - 11p' https://openaccess.thecvf.com/content_CVPR_2020/papers/Camgoz_Sign_Language_Transformers_Joint_End-to-End_Sign_Language_Recognition_and_Translation_CVPR_2020_paper.pdf\n",
    "\n",
    "paper Stanford'flash attention (v1 2022) - 34p' https://arxiv.org/pdf/2205.14135.pdf\n",
    "\n",
    "paper Stanford and its github 'flash attention 2 (v2 largely improved - end june 2023) - transformers runtime and memory more efficient for long sequences - 14p' https://arxiv.org/pdf/2307.08691.pdf ; github https://github.com/Dao-AILab/flash-attention\n",
    "\n",
    "paper Google Cited 1059 times 'ViViT: A Video Vision Transformer - 14p' https://arxiv.org/pdf/2103.15691.pdf\n",
    "\n",
    "\n",
    "## `Kaggle code reference :`\n",
    "'ASLFR - Transformer Training Fully Explained' Well explained (results 0.675) https://www.kaggle.com/code/m4nugnzl/aslfr-transformer-training-fully-explained\n",
    "\n",
    "'ASLFR CTC based on prev comp 1st place' different process, great to compare with the first one (results 0.687) https://www.kaggle.com/code/irohith/aslfr-ctc-based-on-prev-comp-1st-place\n",
    "\n",
    "has been the main reference for the competition from its early stage publication but lot more efficient (results 0.441) : 'https://www.kaggle.com/code/gusthema/asl-fingerspelling-recognition-w-tensorflow#Google---American-Sign-Language-Fingerspelling-Recognition-with-TensorFlow'\n",
    "\n",
    "'ASLFR EDA + Preprocessing Dataset for Beginners' https://www.kaggle.com/code/m4nugnzl/aslfr-eda-preprocessing-dataset-for-beginners#%F0%9F%93%84-Files\n",
    "\n",
    "simpler version though decent (results 0.562) https://www.kaggle.com/code/husainattar/aslfr-a-simple-transformer\n"
   ]
  },
  {
   "cell_type": "markdown",
   "metadata": {},
   "source": [
    "### The most interessing process found from the ASLFR - Transformer Training Fully Explained' Well explained (results 0.675) (https://www.kaggle.com/code/m4nugnzl/aslfr-transformer-training-fully-explained)"
   ]
  },
  {
   "cell_type": "code",
   "execution_count": 2,
   "metadata": {},
   "outputs": [],
   "source": [
    "import numpy as np"
   ]
  },
  {
   "cell_type": "markdown",
   "metadata": {},
   "source": [
    "### 1.  For the standardize of the length of input sequence, `N_TARGET_FRAMES` is defined as the variable that indicates the number of frames to which the recordings will be resized : "
   ]
  },
  {
   "cell_type": "code",
   "execution_count": null,
   "metadata": {},
   "outputs": [],
   "source": [
    "#Code\n",
    "\n",
    "N_TARGET_FRAMES = 128\n",
    "\n",
    " # Pad Zeros\n",
    "        N_FRAMES = len(data[0])\n",
    "        if N_FRAMES < N_TARGET_FRAMES:\n",
    "            data = tf.concat((\n",
    "                data,\n",
    "                tf.zeros([1,N_TARGET_FRAMES-N_FRAMES,N_COLS], dtype=tf.float32)\n",
    "            ), axis=1)\n",
    "        # Downsample\n",
    "        data = tf.image.resize(\n",
    "            data,\n",
    "            [1, N_TARGET_FRAMES],\n",
    "            method=tf.image.ResizeMethod.BILINEAR,\n",
    "        )"
   ]
  },
  {
   "cell_type": "markdown",
   "metadata": {},
   "source": [
    "This is done inside the class called `Preprocesseurlayer` below : "
   ]
  },
  {
   "cell_type": "code",
   "execution_count": null,
   "metadata": {},
   "outputs": [],
   "source": [
    "class PreprocessLayer(tf.keras.layers.Layer):\n",
    "    def __init__(self):\n",
    "        super(PreprocessLayer, self).__init__()\n",
    "        self.normalisation_correction = tf.constant(\n",
    "                    # Add 0.50 to x coordinates of left hand (original right hand) and substract 0.50 of right hand (original left hand)\n",
    "                     [0.50 if 'x' in name else 0.00 for name in LEFT_HAND_NAMES0],\n",
    "                dtype=tf.float32,\n",
    "            )\n",
    "    \n",
    "    @tf.function(\n",
    "        input_signature=(tf.TensorSpec(shape=[None,N_COLS0], dtype=tf.float32),),\n",
    "    )\n",
    "    def call(self, data0, resize=True):\n",
    "        # Fill NaN Values With 0\n",
    "        data = tf.where(tf.math.is_nan(data0), 0.0, data0)\n",
    "        \n",
    "        # Hacky\n",
    "        data = data[None]\n",
    "        \n",
    "        # Empty Hand Frame Filtering\n",
    "        hands = tf.slice(data, [0,0,0], [-1, -1, 84])\n",
    "        hands = tf.abs(hands)\n",
    "        mask = tf.reduce_sum(hands, axis=2)\n",
    "        mask = tf.not_equal(mask, 0)\n",
    "        data = data[mask][None]\n",
    "        \n",
    "        # Pad Zeros\n",
    "        N_FRAMES = len(data[0])\n",
    "        if N_FRAMES < N_TARGET_FRAMES:\n",
    "            data = tf.concat((\n",
    "                data,\n",
    "                tf.zeros([1,N_TARGET_FRAMES-N_FRAMES,N_COLS], dtype=tf.float32)\n",
    "            ), axis=1)\n",
    "        # Downsample\n",
    "        data = tf.image.resize(\n",
    "            data,\n",
    "            [1, N_TARGET_FRAMES],\n",
    "            method=tf.image.ResizeMethod.BILINEAR,\n",
    "        )\n",
    "        \n",
    "        # Squeeze Batch Dimension\n",
    "        data = tf.squeeze(data, axis=[0])\n",
    "        \n",
    "        return data\n",
    "    \n",
    "preprocess_layer = PreprocessLayer()"
   ]
  },
  {
   "cell_type": "markdown",
   "metadata": {},
   "source": [
    "#### 2. `To determine the dominant hand, and the mean ; std of position :` (from https://www.kaggle.com/code/m4nugnzl/aslfr-eda-preprocessing-dataset-for-beginners#%F0%9F%93%84-Files)"
   ]
  },
  {
   "cell_type": "code",
   "execution_count": null,
   "metadata": {},
   "outputs": [],
   "source": [
    "def get_left_right_hand_mean_std():\n",
    "    # Dominant Hand Statistics\n",
    "    MEANS = np.zeros([N_COLS], dtype=np.float32)\n",
    "    STDS = np.zeros([N_COLS], dtype=np.float32)\n",
    "    \n",
    "    # Plot\n",
    "    fig, axes = plt.subplots(3, figsize=(20, 3*8))\n",
    "    \n",
    "    # Iterate over all landmarks\n",
    "    for col, v in enumerate(tqdm(X.reshape([-1, N_COLS]).T)):\n",
    "        v = v[np.nonzero(v)]\n",
    "        # Remove zero values as they are NaN values\n",
    "        MEANS[col] = v.astype(np.float32).mean()\n",
    "        STDS[col] = v.astype(np.float32).std()\n",
    "        if col in LEFT_HAND_IDXS:\n",
    "            axes[0].boxplot(v, notch=False, showfliers=False, positions=[col], whis=[5,95])\n",
    "        elif col in RIGHT_HAND_IDXS:\n",
    "            axes[1].boxplot(v, notch=False, showfliers=False, positions=[col], whis=[5,95])\n",
    "        else:\n",
    "            axes[2].boxplot(v, notch=False, showfliers=False, positions=[col], whis=[5,95])\n",
    "        \n",
    "    for ax, name in zip(axes, ['Left Hand', 'Right Hand', 'Lips']):\n",
    "        ax.set_title(f'{name}', size=24)\n",
    "        ax.tick_params(axis='x', labelsize=8, rotation=45)\n",
    "        ax.set_ylim(0.0, 1.0)\n",
    "        ax.grid(axis='y')\n",
    "\n",
    "    plt.show()\n",
    "    \n",
    "    return MEANS, STDS\n",
    "\n",
    "# Get Dominant Hand Mean/Standard Deviation\n",
    "MEANS, STDS = get_left_right_hand_mean_std()\n",
    "# Save Mean/STD to normalize input in neural network model\n",
    "np.save('MEANS.npy', MEANS)\n",
    "np.save('STDS.npy', STDS)"
   ]
  },
  {
   "attachments": {
    "image.png": {
     "image/png": "[encoded data removed]"
    }
   },
   "cell_type": "markdown",
   "metadata": {},
   "source": [
    "![image.png](attachment:image.png)"
   ]
  },
  {
   "cell_type": "markdown",
   "metadata": {},
   "source": [
    "OR: "
   ]
  },
  {
   "cell_type": "code",
   "execution_count": null,
   "metadata": {},
   "outputs": [],
   "source": [
    "def get_idxs(df, words_pos, words_neg=[], ret_names=True, idxs_pos=None):\n",
    "    idxs = []\n",
    "    names = []\n",
    "    for w in words_pos:\n",
    "        for col_idx, col in enumerate(example_parquet_df.columns):\n",
    "            # Exclude Non Landmark Columns\n",
    "            if col in ['frame']:\n",
    "                continue\n",
    "                \n",
    "            col_idx = int(col.split('_')[-1])\n",
    "            # Check if column name contains all words\n",
    "            if (w in col) and (idxs_pos is None or col_idx in idxs_pos) and all([w not in col for w in words_neg]):\n",
    "                idxs.append(col_idx)\n",
    "                names.append(col)\n",
    "    # Convert to Numpy arrays\n",
    "    idxs = np.array(idxs)\n",
    "    names = np.array(names)\n",
    "    # Returns either both column indices and names\n",
    "    if ret_names:\n",
    "        return idxs, names\n",
    "    # Or only columns indices\n",
    "    else:\n",
    "        return idxs"
   ]
  },
  {
   "cell_type": "code",
   "execution_count": null,
   "metadata": {},
   "outputs": [],
   "source": [
    "# Indices in processed data by axes with only dominant hand\n",
    "HAND_X_IDXS = np.array(\n",
    "        [idx for idx, name in enumerate(LEFT_HAND_NAMES0) if 'x' in name]\n",
    "    ).squeeze()\n",
    "HAND_Y_IDXS = np.array(\n",
    "        [idx for idx, name in enumerate(LEFT_HAND_NAMES0) if 'y' in name]\n",
    "    ).squeeze()\n",
    "# Names in processed data by axes\n",
    "HAND_X_NAMES = LEFT_HAND_NAMES0[HAND_X_IDXS]\n",
    "HAND_Y_NAMES = LEFT_HAND_NAMES0[HAND_Y_IDXS]"
   ]
  },
  {
   "cell_type": "markdown",
   "metadata": {},
   "source": [
    "### 3. Make some Ordinal encoding with all of our character from the label."
   ]
  },
  {
   "cell_type": "markdown",
   "metadata": {},
   "source": [
    "#### In total from the parquet analyzed we have 1 156 164 individual character (`cf updated data dictionary`, with a total of 288 761 individual number from 1 to 10, 661 474 individual letter from a to z and 213 929 special character including 58 569 space ' ')\n",
    "\n",
    "#### therefore we might want to remove those cases with extremely few labels totaling 15 character from the 2 361 417 individual character.\n",
    "'(':      16 \n",
    "')':      16 \n",
    "'$':       5     probably keep those still but up to argument\n",
    "\n",
    "\n",
    "'!':       3 \n",
    "\n",
    "'#':       3 \n",
    "\n",
    "'*':       3 \n",
    "\n",
    "''':       3 \n",
    "\n",
    "'[':       2 \n",
    "\n",
    "';':       1 "
   ]
  },
  {
   "cell_type": "markdown",
   "metadata": {},
   "source": [
    "### `after further analysis, from the visuals and the research on signing, it seems like they don't sign the ' ', though present in estimated of about 5% of our data set (58 569/1 156 164). "
   ]
  },
  {
   "cell_type": "code",
   "execution_count": null,
   "metadata": {},
   "outputs": [],
   "source": [
    "# replace json with parquet, and file link to our\n",
    "with open('/kaggle/input/asl-fingerspelling/character_to_prediction_index.json') as json_file:\n",
    "    CHAR2ORD = json.load(json_file)\n",
    "\n",
    "ORD2CHAR = {j:i for i,j in CHAR2ORD.items()}\n",
    "\n",
    "display(pd.Series(CHAR2ORD).to_frame('Ordinal Encoding'))"
   ]
  },
  {
   "cell_type": "markdown",
   "metadata": {},
   "source": [
    "### 4. Below, the link where some values such as X_train, X_val... and means, std of hand position result have been shared : https://www.kaggle.com/code/m4nugnzl/aslfr-eda-preprocessing-dataset-for-beginners/output "
   ]
  },
  {
   "cell_type": "code",
   "execution_count": 7,
   "metadata": {},
   "outputs": [
    {
     "data": {
      "text/plain": [
       "(7236, 128, 164)"
      ]
     },
     "execution_count": 7,
     "metadata": {},
     "output_type": "execute_result"
    }
   ],
   "source": [
    "file_path = 'd:\\Téléchargements\\X_val.npy'\n",
    "\n",
    "# Load the .npy file\n",
    "data = np.load(file_path)\n",
    "\n",
    "# Now, 'data' contains the contents of the .npy file\n",
    "# You can work with the data as needed\n",
    "data.shape"
   ]
  },
  {
   "cell_type": "code",
   "execution_count": 8,
   "metadata": {},
   "outputs": [
    {
     "data": {
      "text/plain": [
       "array([[[0.        , 0.        , 0.        , ..., 0.43832466,\n",
       "         0.41966492, 0.4228143 ],\n",
       "        [0.        , 0.        , 0.        , ..., 0.44109264,\n",
       "         0.4193048 , 0.4217989 ],\n",
       "        [0.        , 0.        , 0.        , ..., 0.44420236,\n",
       "         0.41850525, 0.42100266],\n",
       "        ...,\n",
       "        [0.        , 0.        , 0.        , ..., 0.        ,\n",
       "         0.        , 0.        ],\n",
       "        [0.        , 0.        , 0.        , ..., 0.        ,\n",
       "         0.        , 0.        ],\n",
       "        [0.        , 0.        , 0.        , ..., 0.        ,\n",
       "         0.        , 0.        ]],\n",
       "\n",
       "       [[0.        , 0.        , 0.        , ..., 0.5346805 ,\n",
       "         0.5203365 , 0.5228138 ],\n",
       "        [0.        , 0.        , 0.        , ..., 0.5338256 ,\n",
       "         0.5201627 , 0.52248377],\n",
       "        [0.        , 0.        , 0.        , ..., 0.53411543,\n",
       "         0.5201587 , 0.5224962 ],\n",
       "        ...,\n",
       "        [0.        , 0.        , 0.        , ..., 0.5156937 ,\n",
       "         0.5031233 , 0.50501925],\n",
       "        [0.        , 0.        , 0.        , ..., 0.        ,\n",
       "         0.        , 0.        ],\n",
       "        [0.        , 0.        , 0.        , ..., 0.        ,\n",
       "         0.        , 0.        ]],\n",
       "\n",
       "       [[0.        , 0.        , 0.        , ..., 0.30720633,\n",
       "         0.29559118, 0.29790407],\n",
       "        [0.        , 0.        , 0.        , ..., 0.30734968,\n",
       "         0.29437253, 0.29716897],\n",
       "        [0.        , 0.        , 0.        , ..., 0.30868936,\n",
       "         0.2949734 , 0.29821932],\n",
       "        ...,\n",
       "        [0.        , 0.        , 0.        , ..., 0.        ,\n",
       "         0.        , 0.        ],\n",
       "        [0.        , 0.        , 0.        , ..., 0.        ,\n",
       "         0.        , 0.        ],\n",
       "        [0.        , 0.        , 0.        , ..., 0.        ,\n",
       "         0.        , 0.        ]],\n",
       "\n",
       "       ...,\n",
       "\n",
       "       [[0.        , 0.        , 0.        , ..., 0.46983072,\n",
       "         0.45940965, 0.4610452 ],\n",
       "        [0.        , 0.        , 0.        , ..., 0.47349042,\n",
       "         0.46390316, 0.46564952],\n",
       "        [0.        , 0.        , 0.        , ..., 0.46999928,\n",
       "         0.4601242 , 0.46181482],\n",
       "        ...,\n",
       "        [0.        , 0.        , 0.        , ..., 0.        ,\n",
       "         0.        , 0.        ],\n",
       "        [0.        , 0.        , 0.        , ..., 0.        ,\n",
       "         0.        , 0.        ],\n",
       "        [0.        , 0.        , 0.        , ..., 0.        ,\n",
       "         0.        , 0.        ]],\n",
       "\n",
       "       [[0.65378016, 0.56520927, 0.4654566 , ..., 0.59890544,\n",
       "         0.58847624, 0.59039074],\n",
       "        [0.63099813, 0.55216646, 0.4657783 , ..., 0.6030085 ,\n",
       "         0.5921296 , 0.59368366],\n",
       "        [0.64328516, 0.5559139 , 0.47246513, ..., 0.6048053 ,\n",
       "         0.5920968 , 0.5942432 ],\n",
       "        ...,\n",
       "        [0.        , 0.        , 0.        , ..., 0.        ,\n",
       "         0.        , 0.        ],\n",
       "        [0.        , 0.        , 0.        , ..., 0.        ,\n",
       "         0.        , 0.        ],\n",
       "        [0.        , 0.        , 0.        , ..., 0.        ,\n",
       "         0.        , 0.        ]],\n",
       "\n",
       "       [[0.        , 0.        , 0.        , ..., 0.48543462,\n",
       "         0.47480696, 0.47714785],\n",
       "        [0.        , 0.        , 0.        , ..., 0.4861871 ,\n",
       "         0.47382075, 0.47593462],\n",
       "        [0.        , 0.        , 0.        , ..., 0.4919621 ,\n",
       "         0.47626033, 0.47954985],\n",
       "        ...,\n",
       "        [0.        , 0.        , 0.        , ..., 0.49156842,\n",
       "         0.4761709 , 0.4786116 ],\n",
       "        [0.        , 0.        , 0.        , ..., 0.49270093,\n",
       "         0.4765729 , 0.47888964],\n",
       "        [0.        , 0.        , 0.        , ..., 0.49347174,\n",
       "         0.47686657, 0.47932804]]], dtype=float32)"
      ]
     },
     "execution_count": 8,
     "metadata": {},
     "output_type": "execute_result"
    }
   ],
   "source": [
    "data"
   ]
  },
  {
   "cell_type": "markdown",
   "metadata": {},
   "source": [
    "### 5. end Model config for transformer (activation gelu)"
   ]
  },
  {
   "cell_type": "code",
   "execution_count": null,
   "metadata": {},
   "outputs": [],
   "source": [
    "# Epsilon value for layer normalisation\n",
    "LAYER_NORM_EPS = 1e-6\n",
    "\n",
    "# final embedding and transformer embedding size\n",
    "UNITS_ENCODER = 384\n",
    "UNITS_DECODER = 256\n",
    "\n",
    "# Transformer\n",
    "NUM_BLOCKS_ENCODER = 4\n",
    "NUM_BLOCKS_DECODER = 2\n",
    "NUM_HEADS = 4\n",
    "MLP_RATIO = 2\n",
    "\n",
    "# Dropout\n",
    "EMBEDDING_DROPOUT = 0.00\n",
    "MLP_DROPOUT_RATIO = 0.30\n",
    "MHA_DROPOUT_RATIO = 0.20\n",
    "CLASSIFIER_DROPOUT_RATIO = 0.10\n",
    "\n",
    "# Initiailizers\n",
    "INIT_HE_UNIFORM = tf.keras.initializers.he_uniform\n",
    "INIT_GLOROT_UNIFORM = tf.keras.initializers.glorot_uniform\n",
    "INIT_ZEROS = tf.keras.initializers.constant(0.0)\n",
    "# Activations\n",
    "GELU = tf.keras.activations.gelu"
   ]
  },
  {
   "cell_type": "markdown",
   "metadata": {},
   "source": [
    "### 6. embedding with keras"
   ]
  },
  {
   "cell_type": "markdown",
   "metadata": {},
   "source": [
    "Embedding of the landmarks :"
   ]
  },
  {
   "cell_type": "code",
   "execution_count": null,
   "metadata": {},
   "outputs": [],
   "source": [
    "# Embeds a landmark using fully connected layers\n",
    "class LandmarkEmbedding(tf.keras.Model):\n",
    "    def __init__(self, units, name):\n",
    "        super(LandmarkEmbedding, self).__init__(name=f'{name}_embedding')\n",
    "        self.units = units\n",
    "        self.supports_masking = True\n",
    "        \n",
    "    def build(self, input_shape):\n",
    "        # Embedding for missing landmark in frame, initialized with zeros\n",
    "        self.empty_embedding = self.add_weight(\n",
    "            name=f'{self.name}_empty_embedding',\n",
    "            shape=[self.units],\n",
    "            initializer=INIT_ZEROS,)\n",
    "        # Embedding: 2 dense layers\n",
    "        self.dense = tf.keras.Sequential([\n",
    "            tf.keras.layers.Dense(self.units, name=f'{self.name}_dense_1', use_bias=False, kernel_initializer=INIT_GLOROT_UNIFORM, activation=GELU),\n",
    "            tf.keras.layers.Dense(self.units, name=f'{self.name}_dense_2', use_bias=False, kernel_initializer=INIT_HE_UNIFORM),\n",
    "        ], name=f'{self.name}_dense')\n",
    "\n",
    "    def call(self, x):\n",
    "        # if the landmark = 0 -> use empty embedding (return 0s), else use dense embedding\n",
    "        return tf.where(\n",
    "                # Checks whether landmark is missing in frame\n",
    "                tf.reduce_sum(x, axis=2, keepdims=True) == 0,\n",
    "                # If so, the empty embedding is used\n",
    "                self.empty_embedding,\n",
    "                # Otherwise the landmark data is embedded\n",
    "                self.dense(x),\n",
    "            )"
   ]
  },
  {
   "cell_type": "code",
   "execution_count": null,
   "metadata": {},
   "outputs": [],
   "source": [
    "# Create an instance of the LandmarkEmbedding model\n",
    "embedding_model = LandmarkEmbedding(units=2, name='landmark')\n",
    "\n",
    "# Define the landmarks of the three frames\n",
    "frame_1 = tf.constant([[[1, 2], [3, 4]]])\n",
    "frame_2 = tf.constant([[[0, 0], [5, 6]], [[7, 8], [9, 10]]])\n",
    "\n",
    "# Pass the landmarks through the embedding model\n",
    "embedding_1 = embedding_model(frame_1)\n",
    "embedding_2 = embedding_model(frame_2)\n",
    "\n",
    "# Print the embedded representations of the landmarks\n",
    "print(f'Frame 1 shape: {frame_1.shape} ')\n",
    "print(\"Frame 1 embeddings:\")\n",
    "print(embedding_1)\n",
    "\n",
    "print(\"\\n\\nFrame 2 embeddings:\")\n",
    "print(embedding_2)"
   ]
  },
  {
   "cell_type": "markdown",
   "metadata": {},
   "source": [
    "embedding of each frame : "
   ]
  },
  {
   "cell_type": "code",
   "execution_count": null,
   "metadata": {},
   "outputs": [],
   "source": [
    "class Embedding(tf.keras.Model):\n",
    "    def __init__(self):\n",
    "        super(Embedding, self).__init__()\n",
    "        self.supports_masking = True\n",
    "    \n",
    "    def build(self, input_shape):\n",
    "        # Positional embedding for each frame index\n",
    "        self.positional_embedding = tf.Variable(\n",
    "            initial_value=tf.zeros([N_TARGET_FRAMES, UNITS_ENCODER], dtype=tf.float32),\n",
    "            trainable=True,\n",
    "            name='embedding_positional_encoder',)\n",
    "        # Embedding layer for Landmarks\n",
    "        self.dominant_hand_embedding = LandmarkEmbedding(UNITS_ENCODER, 'dominant_hand')\n",
    "\n",
    "    def call(self, x, training=False):\n",
    "        # Normalize data before aplying embedding\n",
    "        x = tf.where(\n",
    "                tf.math.equal(x, 0.0),\n",
    "                0.0,\n",
    "                (x - MEANS) / STDS,)\n",
    "        # Dominant Hand: apply landmark embedding to extract information\n",
    "        x = self.dominant_hand_embedding(x)\n",
    "        # Add Positional Encoding\n",
    "        x = x + self.positional_embedding\n",
    "        \n",
    "        return x"
   ]
  },
  {
   "cell_type": "code",
   "execution_count": null,
   "metadata": {},
   "outputs": [],
   "source": [
    "# positional Embedding class\n",
    "class PositionalEmbedding(tf.keras.Model):\n",
    "    def __init__(self):\n",
    "        super(PositionalEmbedding, self).__init__()\n",
    "    \n",
    "    def build(self, input_shape):\n",
    "        self.positional_embedding = tf.Variable(\n",
    "            initial_value=tf.zeros([1, 164], dtype=tf.float32),\n",
    "            trainable=True,\n",
    "            name='positional_embedding')\n",
    "    \n",
    "    def call(self, x):\n",
    "        return x + self.positional_embedding"
   ]
  },
  {
   "cell_type": "code",
   "execution_count": null,
   "metadata": {},
   "outputs": [],
   "source": [
    "# Create model instance\n",
    "embedding_model = PositionalEmbedding()\n",
    "\n",
    "# Define input data of dimension [1,1,164]\n",
    "input_data = X_train[0,0,:].reshape(1,1,164)\n",
    "\n",
    "# make the embedding\n",
    "embedded_data = embedding_model(input_data)\n",
    "\n",
    "print(f'Input Shape: {input_data.shape}')\n",
    "\n",
    "print(f'\\nEmbedded Shape: {embedded_data.shape}')\n",
    "\n",
    "# Imprimir los datos de salida incrustados\n",
    "print(\"\\nInput Data:\")\n",
    "print(input_data)\n",
    "\n",
    "print(\"\\n\\nEmbedded Data:\")\n",
    "print(embedded_data)"
   ]
  },
  {
   "cell_type": "markdown",
   "metadata": {},
   "source": [
    "In summary, the Embedding class is used to generate an embedded representation for each input frame. This involves normalizing the input data, generating an embedded representation of the landmarks, and adding positional information to the resulting embedded representation."
   ]
  },
  {
   "cell_type": "markdown",
   "metadata": {},
   "source": [
    "7. Awesome explaination of the transformer process with its code "
   ]
  },
  {
   "cell_type": "markdown",
   "metadata": {},
   "source": [
    "Long explaination of the process and understanding to transformer architecture."
   ]
  },
  {
   "cell_type": "markdown",
   "metadata": {},
   "source": [
    "Now, a multi-head attention layer is implemented using the scaled dot product operation. Multi-head attention is a key component in Transformer models used in natural language processing tasks and other domains.\n",
    "\n",
    "In a Transformer with multi-head attention, the concepts of queries, keys, and values are crucial as they are used to calculate attention between elements in a sequence. The attention mechanism in a Transformer allows it to focus on relevant parts of the input during the encoding or decoding stage. Attention is calculated at each position in the input sequence based on queries, keys, and values.\n",
    "\n",
    "Here's an explanation of these three components:\n",
    "\n",
    "Queries: These are vectors representing the current position in the input sequence for which attention is to be calculated. In other words, they are the positions that are being encoded or decoded. Each query is used to calculate the degree of relevance or similarity between this position and all other positions in the sequence.\n",
    "\n",
    "Keys: These are vectors representing all positions in the input sequence. They are used to calculate the degree of relevance between queries and different positions in the sequence. Keys are crucial in determining which parts of the input are important for each query.\n",
    "\n",
    "Values: These are vectors containing the actual information at each position in the input sequence. They are used to calculate attention weights and weigh the importance of each position based on its relevance to queries and keys.\n",
    "\n",
    "The calculation of attention involves measuring the similarity between queries and keys to obtain attention weights. These attention weights indicate how much importance should be given to each position in the sequence based on its relationship with the current query. The values are then weighted using these attention weights to obtain the attended or contextualized representation of the current query.\n",
    "\n",
    "In the context of multi-head attention, this process is performed multiple times, each time with different sets of parameters (queries, keys, and values), allowing the Transformer to capture different patterns and relationships in the input sequence more effectively.\n",
    "\n",
    "We divide the explanation of our attention mechanism into steps:\n",
    "\n",
    "scaled_dot_product is a function that performs the scaled dot product between the queries (q), keys (k), and values (v) of attention. The scaled dot product is a fundamental operation in attention, and it is used to calculate the relevance between queries and keys. In the context of multi-head attention, the scaled dot product is applied in parallel in each attention head to capture different relationships and patterns in the data. The process of the scaled dot product is done in three steps:\n",
    "\n",
    "Dot Product: The dot product is calculated between the queries (q) and the transposed keys (k). This is achieved through the matrix multiplication operation. The result is a matrix representing the relevance between each pair of query and key.\n",
    "Scaling: After calculating the dot product, it is scaled by dividing it by the square root of the dimension of the queries (q). This scaling operation helps stabilize the attention process and ensures that the attention values are not too large.\n",
    "Softmax and Weighting: Next, a softmax function is applied to the scaled matrix. The softmax converts the values into a probability distribution, meaning that each attention value represents the relative importance of the corresponding key for a given query. Then, this attention distribution is used to weigh the values (v) and obtain a combined representation of the weighted values.\n",
    "\n",
    "The reason we use this scaled dot product layer in multi-head attention is that it allows us to capture the relationships and dependencies between queries and keys more expressively. By performing the scaled dot product in multiple attention heads, we can capture different patterns and relationships in parallel, which enhances the ability to model relevant information in the data.\n",
    "\n",
    "MultiHeadAttention is a multi-head attention layer. It takes as input the queries (q), keys (k), and values (v) of attention. It can also receive an optional attention mask to mask certain inputs. The main parameters of this layer are:\n",
    "\n",
    "d_model: the dimension of the representation space for queries, keys, and values.\n",
    "num_of_heads: the number of attention heads to be used.\n",
    "dropout: the dropout probability to regularize the output.\n",
    "d_out (optional): if provided, specifies the output dimension after the multi-head attention layer.\n",
    "In the call method, the following operations are performed:\n",
    "For each attention head, an independent linear transformation is applied to the queries (q), keys (k), and values (v) using dense layers (wq, wk, wv) to project them into smaller subspaces.\n",
    "The scaled_dot_product function is called to calculate attention with the projections of q, k, and v for each attention head.\n",
    "The outputs of all attention heads are concatenated along the last dimension to obtain a combined representation.\n",
    "The combined representation goes through a final linear layer (wo) to obtain the output of the multi-head attention layer.\n",
    "A dropout layer is applied to regularize the output before returning it.\n",
    "In summary, this implementation performs multi-head attention in parallel, where each head learns different weighted representations of the inputs. Then, it combines the outputs of all heads into a final representation that can be used in natural language processing tasks and other machine learning problems."
   ]
  },
  {
   "cell_type": "markdown",
   "metadata": {},
   "source": [
    "Process : \n",
    "- First, we tokenize the sentence into word vectors or tokens\n",
    "- Next, we calculate the similarity (e.g., using the dot product) between each query and each key to obtain the attention weights.\n",
    "- The attention weights indicate which words are more relevant to each query. These weights are then applied to the values corresponding to the words in the input to obtain the final result.\n",
    "- Finally, the multi-head attention combines the weighted representations of the words to obtain a high-quality representation for the original sentence."
   ]
  },
  {
   "cell_type": "code",
   "execution_count": null,
   "metadata": {},
   "outputs": [],
   "source": [
    "# cf https://www.kaggle.com/code/m4nugnzl/aslfr-transformer-training-fully-explained\n",
    "# based on: https://stackoverflow.com/questions/67342988/verifying-the-implementation-of-multihead-attention-in-transformer\n",
    "# replaced softmax with softmax layer to support masked softmax\n",
    "class MultiHeadAttention(tf.keras.layers.Layer):\n",
    "    def __init__(self, d_model, n_heads, dropout, d_out=None):\n",
    "        super(MultiHeadAttention,self).__init__()\n",
    "        # Number of Units in Model\n",
    "        self.d_model = d_model\n",
    "        # Number of Attention Heads\n",
    "        self.n_heads = n_heads\n",
    "        # Number of Units in Intermediate Layers\n",
    "        self.depth = d_model // 2\n",
    "        # Scaling Factor Of Values\n",
    "        self.scale = 1.0 / tf.math.sqrt(tf.cast(self.depth, tf.float32))\n",
    "        # Learnable Projections to Depth\n",
    "        self.wq = self.fused_mha(self.depth)\n",
    "        self.wk = self.fused_mha(self.depth)\n",
    "        self.wv = self.fused_mha(self.depth)\n",
    "        # Output Projection\n",
    "        self.wo = tf.keras.layers.Dense(d_model if d_out is None else d_out, use_bias=False)\n",
    "        # Softmax Activation Which Supports Masking\n",
    "        self.softmax = tf.keras.layers.Softmax()\n",
    "        # Reshaping Of Multiple Attention heads to Single Value\n",
    "        self.reshape = tf.keras.Sequential([\n",
    "            # [attention heads, number of frames, d_model] → [number of frames, n_heads, d_model // n_heads]\n",
    "            tf.keras.layers.Permute([2, 1, 3]),\n",
    "            # [number of frames, attention heads, d_model] → [number of frames, d_model]\n",
    "            tf.keras.layers.Reshape([N_TARGET_FRAMES, self.depth]),\n",
    "        ])\n",
    "        # Output Dropout\n",
    "        self.do = tf.keras.layers.Dropout(dropout)\n",
    "        self.supports_masking = True\n",
    "        \n",
    "    # Single dense layer for all attention heads\n",
    "    def fused_mha(self, dim):\n",
    "        return tf.keras.Sequential([\n",
    "            # Single dense layer\n",
    "            tf.keras.layers.Dense(dim, use_bias=False),\n",
    "            # Reshape to [number of frames, number of attention head, depth]\n",
    "            tf.keras.layers.Reshape([N_TARGET_FRAMES, self.n_heads, dim // self.n_heads]),\n",
    "            # Permutate to [number of attention heads, number of frames, depth]\n",
    "            tf.keras.layers.Permute([2, 1, 3]),\n",
    "        ])\n",
    "        \n",
    "    def call(self, q, k, v, attention_mask=None, training=False):\n",
    "        # Projections to attention heads\n",
    "        Q = self.wq(q)\n",
    "        K = self.wk(k)\n",
    "        V = self.wv(v)\n",
    "        # Matrix multiply QxK to acquire attention scores\n",
    "        x = tf.matmul(Q, K, transpose_b=True) * self.scale\n",
    "        # Softmax attention scores and Multiply with Values\n",
    "        x = self.softmax(x, mask=attention_mask) @ V\n",
    "        # Reshape to flatten attention heads\n",
    "        x = self.reshape(x)\n",
    "        # Output projection\n",
    "        x = self.wo(x)\n",
    "        # Dropout\n",
    "        x = self.do(x, training=training)\n",
    "        return x"
   ]
  },
  {
   "cell_type": "markdown",
   "metadata": {},
   "source": [
    "### 8. The encoder and decoder "
   ]
  },
  {
   "cell_type": "markdown",
   "metadata": {},
   "source": [
    "encoder :"
   ]
  },
  {
   "cell_type": "code",
   "execution_count": null,
   "metadata": {},
   "outputs": [],
   "source": [
    " # Encoder based on multiple transformer blocks\n",
    "class Encoder(tf.keras.Model):\n",
    "    def __init__(self, num_blocks):\n",
    "        super(Encoder, self).__init__(name='encoder')\n",
    "        self.num_blocks = num_blocks\n",
    "        self.supports_masking = True\n",
    "    \n",
    "    def build(self, input_shape):\n",
    "        self.ln_1s = []\n",
    "        self.mhas = []\n",
    "        self.ln_2s = []\n",
    "        self.mlps = []\n",
    "        # Make Transformer Blocks\n",
    "        for i in range(self.num_blocks):\n",
    "            # First Layer Normalisation\n",
    "            self.ln_1s.append(tf.keras.layers.LayerNormalization(epsilon=LAYER_NORM_EPS))\n",
    "            # Multi Head Attention\n",
    "            self.mhas.append(MultiHeadAttention(UNITS_ENCODER, NUM_HEADS, MHA_DROPOUT_RATIO))\n",
    "            # Second Layer Normalisation\n",
    "            self.ln_2s.append(tf.keras.layers.LayerNormalization(epsilon=LAYER_NORM_EPS))\n",
    "            # Multi Layer Perception\n",
    "            self.mlps.append(tf.keras.Sequential([\n",
    "                tf.keras.layers.Dense(UNITS_ENCODER * MLP_RATIO, activation=GELU, kernel_initializer=INIT_GLOROT_UNIFORM, use_bias=False),\n",
    "                tf.keras.layers.Dropout(MLP_DROPOUT_RATIO),\n",
    "                tf.keras.layers.Dense(UNITS_ENCODER, kernel_initializer=INIT_HE_UNIFORM, use_bias=False),\n",
    "            ]))\n",
    "            # Optional Projection to Decoder Dimension\n",
    "            if UNITS_ENCODER != UNITS_DECODER:\n",
    "                self.dense_out = tf.keras.layers.Dense(UNITS_DECODER, kernel_initializer=INIT_GLOROT_UNIFORM, use_bias=False)\n",
    "                self.apply_dense_out = True\n",
    "            else:\n",
    "                self.apply_dense_out = False\n",
    "                \n",
    "    def get_attention_mask(self, x_inp):\n",
    "        # Attention Mask\n",
    "        attention_mask = tf.math.count_nonzero(x_inp, axis=[2], keepdims=True, dtype=tf.int32)\n",
    "        attention_mask = tf.math.count_nonzero(attention_mask, axis=[2], keepdims=False)\n",
    "        attention_mask = tf.expand_dims(attention_mask, axis=1)\n",
    "        attention_mask = tf.expand_dims(attention_mask, axis=1)\n",
    "        return attention_mask\n",
    "        \n",
    "    def call(self, x, x_inp, training=False):\n",
    "        # Attention mask to ignore missing frames\n",
    "        attention_mask = self.get_attention_mask(x_inp)\n",
    "        # Iterate input over transformer blocks\n",
    "        for ln_1, mha, ln_2, mlp in zip(self.ln_1s, self.mhas, self.ln_2s, self.mlps):\n",
    "            x = ln_1(x + mha(x, x, x, attention_mask=attention_mask))\n",
    "            x = ln_2(x + mlp(x))\n",
    "            \n",
    "        # Optional Projection to Decoder Dimension\n",
    "        if self.apply_dense_out:\n",
    "            x = self.dense_out(x)\n",
    "    \n",
    "        return x"
   ]
  },
  {
   "cell_type": "markdown",
   "metadata": {},
   "source": [
    "decoder steps are follow : \n",
    "The steps are as follows:\n",
    "\n",
    "1 Preprocessing of the input sequence (phrase) is done to convert it into numerical representations (embedding) using the character embedding layer (char_emb). Additionally, the special start token (START_TOKEN) is added to the beginning of each sequence, and padding tokens (PAD_TOKEN) are appended at the end to reach the desired maximum length (MAX_PHRASE_LENGTH).\n",
    "\n",
    "2 The causal attention mask is created using the get_causal_attention_mask method to prevent the model from accessing future information during sequence generation.\n",
    "\n",
    "3 The initial embedding representations are obtained by summing the positional embedding layer (positional_embedding) and the character embedding layer (char_emb) of the input sequence (phrase). This sum combines spatial (positional) and semantic (character embedding) information for each word in the sequence.\n",
    "\n",
    "4 A normalization layer (pos_emb_ln) is applied to the initial embedding representations after the causal masked attention (pos_emb_mha). Normalization helps the model train more stably and efficiently.\n",
    "\n",
    "5 The Transformer blocks (normalization layers, multi-head attention, and MLP) are iterated through a for loop. Each block is responsible for processing and improving the embedding representations during sequence generation.\n",
    "\n",
    "6 Finally, the generated sequence is trimmed to remove any padding tokens (PAD_TOKEN), and the output of the Decoder model with a length of MAX_PHRASE_LENGTH is obtained.\n",
    "\n",
    "In summary, the Decoder model uses multiple Transformer blocks to generate an output sequence based on the information from the Encoder. It applies causal masked attention to capture temporal dependencies and uses normalization and MLP techniques to process and improve the embedding representations during sequence generation. The goal is for the model to generate meaningful and coherent text sequences based on the information from the Encoder."
   ]
  },
  {
   "cell_type": "code",
   "execution_count": null,
   "metadata": {},
   "outputs": [],
   "source": [
    "# Decoder based on multiple transformer blocks\n",
    "class Decoder(tf.keras.Model):\n",
    "    def __init__(self, num_blocks):\n",
    "        super(Decoder, self).__init__(name='decoder')\n",
    "        self.num_blocks = num_blocks\n",
    "        self.supports_masking = True\n",
    "    \n",
    "    def build(self, input_shape):\n",
    "        # Causal Mask Batch Size 1\n",
    "        self.causal_mask = self.get_causal_attention_mask()\n",
    "        # Positional Embedding, initialized with zeros\n",
    "        self.positional_embedding = tf.Variable(\n",
    "            initial_value=tf.zeros([N_TARGET_FRAMES, UNITS_DECODER], dtype=tf.float32),\n",
    "            trainable=True,\n",
    "            name='embedding_positional_encoder',\n",
    "        )\n",
    "        # Character Embedding\n",
    "        self.char_emb = tf.keras.layers.Embedding(N_UNIQUE_CHARACTERS, UNITS_DECODER, embeddings_initializer=INIT_ZEROS)\n",
    "        # Positional Encoder MHA\n",
    "        self.pos_emb_mha = MultiHeadAttention(UNITS_DECODER, NUM_HEADS, MHA_DROPOUT_RATIO)\n",
    "        self.pos_emb_ln = tf.keras.layers.LayerNormalization(epsilon=LAYER_NORM_EPS)\n",
    "        # First Layer Normalisation\n",
    "        self.ln_1s = []\n",
    "        self.mhas = []\n",
    "        self.ln_2s = []\n",
    "        self.mlps = []\n",
    "        # Make Transformer Blocks\n",
    "        for i in range(self.num_blocks):\n",
    "            # First Layer Normalisation\n",
    "            self.ln_1s.append(tf.keras.layers.LayerNormalization(epsilon=LAYER_NORM_EPS))\n",
    "            # Multi Head Attention\n",
    "            self.mhas.append(MultiHeadAttention(UNITS_DECODER, NUM_HEADS, MHA_DROPOUT_RATIO))\n",
    "            # Second Layer Normalisation\n",
    "            self.ln_2s.append(tf.keras.layers.LayerNormalization(epsilon=LAYER_NORM_EPS))\n",
    "            # Multi Layer Perception\n",
    "            self.mlps.append(tf.keras.Sequential([\n",
    "                tf.keras.layers.Dense(UNITS_DECODER * MLP_RATIO, activation=GELU, kernel_initializer=INIT_GLOROT_UNIFORM, use_bias=False),\n",
    "                tf.keras.layers.Dropout(MLP_DROPOUT_RATIO),\n",
    "                tf.keras.layers.Dense(UNITS_DECODER, kernel_initializer=INIT_HE_UNIFORM, use_bias=False),\n",
    "            ]))\n",
    "            \n",
    "    def get_causal_attention_mask(self):\n",
    "        i = tf.range(N_TARGET_FRAMES)[:, tf.newaxis]\n",
    "        j = tf.range(N_TARGET_FRAMES)\n",
    "        mask = tf.cast(i >= j, dtype=tf.int32)\n",
    "        mask = tf.reshape(mask, (1, N_TARGET_FRAMES, N_TARGET_FRAMES))\n",
    "        mult = tf.concat(\n",
    "            [tf.expand_dims(1, -1), tf.constant([1, 1], dtype=tf.int32)],\n",
    "            axis=0,\n",
    "        )\n",
    "        mask = tf.tile(mask, mult)\n",
    "        mask = tf.cast(mask, tf.float32)\n",
    "        return mask\n",
    "    \n",
    "    def get_attention_mask(self, x_inp):\n",
    "        # Attention Mask\n",
    "        attention_mask = tf.math.count_nonzero(x_inp, axis=[2], keepdims=True, dtype=tf.int32)\n",
    "        attention_mask = tf.math.count_nonzero(attention_mask, axis=[2], keepdims=False)\n",
    "        attention_mask = tf.expand_dims(attention_mask, axis=1)\n",
    "        attention_mask = tf.expand_dims(attention_mask, axis=1)\n",
    "        return attention_mask\n",
    "        \n",
    "    def call(self, encoder_outputs, phrase, x_inp, training=False):\n",
    "        # Batch Size\n",
    "        B = tf.shape(encoder_outputs)[0]\n",
    "        # Cast to INT32\n",
    "        phrase = tf.cast(phrase, tf.int32)\n",
    "        # Prepend SOS Token\n",
    "        phrase = tf.pad(phrase, [[0,0], [1,0]], constant_values=START_TOKEN, name='prepend_sos_token')\n",
    "        # Pad With PAD Token\n",
    "        phrase = tf.pad(phrase, [[0,0], [0,N_TARGET_FRAMES-MAX_PHRASE_LENGTH-1]], constant_values=PAD_TOKEN, name='append_pad_token')\n",
    "        # Positional Embedding\n",
    "        x = self.positional_embedding + self.char_emb(phrase)\n",
    "        # Causal Attention\n",
    "        x = self.pos_emb_ln(x + self.pos_emb_mha(x, x, x, attention_mask=self.causal_mask))\n",
    "        # Attention mask to ignore missing frames\n",
    "        attention_mask = self.get_attention_mask(x_inp)\n",
    "        # Iterate input over transformer blocks\n",
    "        for ln_1, mha, ln_2, mlp in zip(self.ln_1s, self.mhas, self.ln_2s, self.mlps):\n",
    "            x = ln_1(x + mha(x, encoder_outputs, encoder_outputs, attention_mask=attention_mask))\n",
    "            x = ln_2(x + mlp(x))\n",
    "        # Slice 31 Characters\n",
    "        x = tf.slice(x, [0, 0, 0], [-1, MAX_PHRASE_LENGTH, -1])\n",
    "    \n",
    "        return x"
   ]
  },
  {
   "cell_type": "markdown",
   "metadata": {},
   "source": [
    "### 9. mask function to prevent data leakage with the step as follow : \n",
    "\n",
    "1 The function creates a numeric sequence of length N_TARGET_FRAMES using tf.range(N_TARGET_FRAMES). Then, additional dimensions are added to this sequence using [:, tf.newaxis] to convert it into a column vector.\n",
    "\n",
    "2 A Cartesian product is taken between the sequence created in step 1 and the original sequence using i >= j. This creates a matrix of zeros and ones, where the elements are zero in all positions corresponding to future positions (columns) relative to the current position (row).\n",
    "\n",
    "3 The matrix of zeros and ones is reshaped to have a shape of (1, N_TARGET_FRAMES, N_TARGET_FRAMES). The additional dimension at the beginning is necessary for its later use in calculating the final mask.\n",
    "\n",
    "4 The value of B is concatenated with a constant [1, 1] using tf.concat to create a tensor that specifies how many times the mask will be replicated to handle the batch size in the model.\n",
    "\n",
    "5 tf.tile is used to replicate the causal attention mask B times, where B is the batch size. This is done so that the mask can be applied to all elements in the batch in the model.\n",
    "\n",
    "6 The resulting attention mask is converted to a tensor of type float32 using tf.cast to ensure compatibility with the attention computation in TensorFlow. Finally, the function returns the resulting causal attention mask."
   ]
  },
  {
   "cell_type": "code",
   "execution_count": null,
   "metadata": {},
   "outputs": [],
   "source": [
    "# Causal Attention to make decoder not attent to future characters which it needs to predict\n",
    "def get_causal_attention_mask(B):\n",
    "    i = tf.range(N_TARGET_FRAMES)[:, tf.newaxis]\n",
    "    j = tf.range(N_TARGET_FRAMES)\n",
    "    mask = tf.cast(i >= j, dtype=tf.int32)\n",
    "    mask = tf.reshape(mask, (1, N_TARGET_FRAMES, N_TARGET_FRAMES))\n",
    "    mult = tf.concat(\n",
    "        [tf.expand_dims(B, -1), tf.constant([1, 1], dtype=tf.int32)],\n",
    "        axis=0,\n",
    "    )\n",
    "    mask = tf.tile(mask, mult)\n",
    "    mask = tf.cast(mask, tf.float32)\n",
    "    return mask\n",
    "\n",
    "get_causal_attention_mask(1)"
   ]
  },
  {
   "cell_type": "markdown",
   "metadata": {},
   "source": [
    "The loss function using the categorical_crossentropy loss function with label smoothing support."
   ]
  },
  {
   "cell_type": "markdown",
   "metadata": {},
   "source": [
    "When training a classification model, we typically use one-hot encoded labels or target outputs. In one-hot format, each sample has a label that is a binary vector with a \"1\" at the position corresponding to the true class and \"0\" in all other positions. For example, if we have a classification problem with 3 classes, a sample belonging to class 2 would have a label [0, 1, 0].\n",
    "\n",
    "Label smoothing involves reducing the absolute confidence of the model in individual labels by redistributing a small amount of probability from the true class to other classes. Instead of using \"1\" at the position corresponding to the true class, a value close to \"1\" is used, and the rest of the value is distributed among the other classes."
   ]
  },
  {
   "cell_type": "markdown",
   "metadata": {},
   "source": [
    "The function contains the following elements:\n",
    "\n",
    "idxs = tf.where(y_true != PAD_TOKEN): In this line, tf.where is used to find the positions in y_true where the value is not equal to the padding token (PAD_TOKEN). The goal is to filter out indices that do not correspond to padding tokens, as we do not want to consider them in the loss calculation.\n",
    "\n",
    "y_true = tf.gather_nd(y_true, idxs): Here, tf.gather_nd is used to obtain the label values from y_true that are not padding tokens.\n",
    "\n",
    "y_pred = tf.gather_nd(y_pred, idxs): Similarly, tf.gather_nd is used to obtain the model predictions corresponding to the filtered indices from y_true.\n",
    "\n",
    "y_true = tf.cast(y_true, tf.int32): For the calculation of the loss with tf.keras.losses.categorical_crossentropy, y_true needs to be of type int32, so a conversion is performed.\n",
    "\n",
    "y_true = tf.one_hot(y_true, N_UNIQUE_CHARACTERS, axis=1): The tf.one_hot function is used to convert the labels y_true into a one-hot representation.\n",
    "\n",
    "loss = tf.keras.losses.categorical_crossentropy(y_true, y_pred, label_smoothing=0.25, from_logits=True): Here, the loss is calculated using the categorical_crossentropy loss function. The function has an optional parameter label_smoothing, which is set to 0.25 in this case. The value 0.25 indicates how much \"confidence\" should be added to the true class and subtracted from the true class probability while adding to the other classes in the loss. from_logits=True indicates that y_pred has not been passed through a softmax activation function before calculating the loss.\n",
    "\n",
    "loss = tf.math.reduce_mean(loss): Finally, the loss calculated in the previous step is reduced to a single value by taking its average using tf.math.reduce_mean. This is necessary to obtain a single loss measure representing the overall model performance on the dataset."
   ]
  }
 ],
 "metadata": {
  "kernelspec": {
   "display_name": "base",
   "language": "python",
   "name": "python3"
  },
  "language_info": {
   "codemirror_mode": {
    "name": "ipython",
    "version": 3
   },
   "file_extension": ".py",
   "mimetype": "text/x-python",
   "name": "python",
   "nbconvert_exporter": "python",
   "pygments_lexer": "ipython3",
   "version": "3.11.4"
  },
  "orig_nbformat": 4
 },
 "nbformat": 4,
 "nbformat_minor": 2
}
